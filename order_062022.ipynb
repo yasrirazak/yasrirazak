{
  "nbformat": 4,
  "nbformat_minor": 0,
  "metadata": {
    "colab": {
      "provenance": [],
      "collapsed_sections": [],
      "mount_file_id": "1M5NCkXwIsfbV06Awi_ZxBAsGDDD56Epp",
      "authorship_tag": "ABX9TyPhVCimC5G9ruymqPsFLUvS"
    },
    "kernelspec": {
      "name": "python3",
      "display_name": "Python 3"
    },
    "language_info": {
      "name": "python"
    }
  },
  "cells": [
    {
      "cell_type": "code",
      "execution_count": null,
      "metadata": {
        "id": "SMFmrwG38BTP",
        "colab": {
          "base_uri": "https://localhost:8080/"
        },
        "outputId": "e2730301-8a82-409b-a145-662cd797e23f"
      },
      "outputs": [
        {
          "output_type": "stream",
          "name": "stdout",
          "text": [
            "Drive already mounted at /content/drive; to attempt to forcibly remount, call drive.mount(\"/content/drive\", force_remount=True).\n"
          ]
        }
      ],
      "source": [
        "from google.colab import drive\n",
        "drive.mount('/content/drive')\n",
        "import pandas as pd\n",
        "data = pd.read_csv('drive/My Drive/order_062022.csv',sep=';')\n"
      ]
    },
    {
      "cell_type": "code",
      "source": [
        "data['Kota/Kabupaten'].value_counts().head()"
      ],
      "metadata": {
        "colab": {
          "base_uri": "https://localhost:8080/"
        },
        "id": "KJLy_VawF8ma",
        "outputId": "4d4d0788-dded-4c8b-9313-57e7588e8ee1"
      },
      "execution_count": null,
      "outputs": [
        {
          "output_type": "execute_result",
          "data": {
            "text/plain": [
              "KOTA JAKARTA TIMUR      22\n",
              "KOTA BEKASI             16\n",
              "KOTA JAKARTA BARAT      15\n",
              "KOTA JAKARTA SELATAN    15\n",
              "KAB. BOGOR              14\n",
              "Name: Kota/Kabupaten, dtype: int64"
            ]
          },
          "metadata": {},
          "execution_count": 9
        }
      ]
    },
    {
      "cell_type": "code",
      "source": [],
      "metadata": {
        "id": "peDOjF4oHIWF"
      },
      "execution_count": null,
      "outputs": []
    }
  ]
}